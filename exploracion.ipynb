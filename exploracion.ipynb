{
 "cells": [
  {
   "cell_type": "code",
   "execution_count": 1,
   "metadata": {
    "collapsed": true,
    "pycharm": {
     "is_executing": false
    }
   },
   "outputs": [],
   "source": [
    "import dask.dataframe as dd\n",
    "from dask.distributed import Client\n",
    "from funciones.transformations import day_mapper, month_mapper\n",
    "import pandas as pd\n",
    "import matplotlib.pyplot as plt\n",
    "import seaborn as sns\n",
    "\n",
    "pd.set_option('max_rows', 500)\n",
    "pd.set_option('max_columns', 500)"
   ]
  },
  {
   "cell_type": "code",
   "execution_count": 2,
   "outputs": [
    {
     "data": {
      "text/plain": "<Client: 'tcp://127.0.0.1:40631' processes=4 threads=8, memory=16.69 GB>",
      "text/html": "<table style=\"border: 2px solid white;\">\n<tr>\n<td style=\"vertical-align: top; border: 0px solid white\">\n<h3 style=\"text-align: left;\">Client</h3>\n<ul style=\"text-align: left; list-style: none; margin: 0; padding: 0;\">\n  <li><b>Scheduler: </b>tcp://127.0.0.1:40631</li>\n</ul>\n</td>\n<td style=\"vertical-align: top; border: 0px solid white\">\n<h3 style=\"text-align: left;\">Cluster</h3>\n<ul style=\"text-align: left; list-style:none; margin: 0; padding: 0;\">\n  <li><b>Workers: </b>4</li>\n  <li><b>Cores: </b>8</li>\n  <li><b>Memory: </b>16.69 GB</li>\n</ul>\n</td>\n</tr>\n</table>"
     },
     "metadata": {},
     "output_type": "execute_result",
     "execution_count": 2
    }
   ],
   "source": [
    "client = Client()\n",
    "client"
   ],
   "metadata": {
    "collapsed": false,
    "pycharm": {
     "name": "#%%\n",
     "is_executing": false
    }
   }
  },
  {
   "cell_type": "code",
   "execution_count": 3,
   "outputs": [
    {
     "data": {
      "text/plain": "           id                 fecha_trxn    canal    disposit cdgtrn cdgrpta  \\\n0       50578 2016-02-27 11:18:00.465900  CANAL_5  DISPOSIT_4    369       0   \n1       50578 2016-02-26 14:25:00.165800  CANAL_5  DISPOSIT_4    356       0   \n2       50578 2016-02-26 14:25:00.058900  CANAL_5  DISPOSIT_4    369       0   \n257626  50578 2016-02-29 14:51:00.510700  CANAL_5  DISPOSIT_4    356       0   \n257627  50578 2016-02-29 14:51:00.283600  CANAL_5  DISPOSIT_4    369       0   \n257628  50578 2016-02-27 11:19:00.491300  CANAL_5  DISPOSIT_4    356       0   \n\n        vlrtran sesion  f_analisis var_rpta segmento  \\\n0           0.0     94         NaN      NaN      NaN   \n1           0.0     93         NaN      NaN      NaN   \n2           0.0     93         NaN      NaN      NaN   \n257626      0.0     95         NaN      NaN      NaN   \n257627      0.0     95         NaN      NaN      NaN   \n257628      0.0     94         NaN      NaN      NaN   \n\n                 grupo_descrp_trxn                     descrip_trxn  \\\n0        Logueo Para Transacciones        Logueo Para Transacciones   \n1       Consulta De Saldo Deposito  Consulta De Saldos Consolidados   \n2        Logueo Para Transacciones        Logueo Para Transacciones   \n257626  Consulta De Saldo Deposito  Consulta De Saldos Consolidados   \n257627   Logueo Para Transacciones        Logueo Para Transacciones   \n257628  Consulta De Saldo Deposito  Consulta De Saldos Consolidados   \n\n          clasif_trxn                    descripcion_grupo  \\\n0       No Financiera                        Autenticacion   \n1       No Financiera  Consultas / Movimientos / Extractos   \n2       No Financiera                        Autenticacion   \n257626  No Financiera  Consultas / Movimientos / Extractos   \n257627  No Financiera                        Autenticacion   \n257628  No Financiera  Consultas / Movimientos / Extractos   \n\n           descrip_cod_rpta clasif_cod_rpta  \\\n0       Transaccion Exitosa         Exitosa   \n1       Transaccion Exitosa         Exitosa   \n2       Transaccion Exitosa         Exitosa   \n257626  Transaccion Exitosa         Exitosa   \n257627  Transaccion Exitosa         Exitosa   \n257628  Transaccion Exitosa         Exitosa   \n\n                            grupo_modifcado culpa_banco producto_asociado  \n0                           Autenticaciones         NaN      Sin producto  \n1       Consultas / Movimientos / Extractos         NaN    Tarjeta Debito  \n2                           Autenticaciones         NaN      Sin producto  \n257626  Consultas / Movimientos / Extractos         NaN    Tarjeta Debito  \n257627                      Autenticaciones         NaN      Sin producto  \n257628  Consultas / Movimientos / Extractos         NaN    Tarjeta Debito  ",
      "text/html": "<div>\n<style scoped>\n    .dataframe tbody tr th:only-of-type {\n        vertical-align: middle;\n    }\n\n    .dataframe tbody tr th {\n        vertical-align: top;\n    }\n\n    .dataframe thead th {\n        text-align: right;\n    }\n</style>\n<table border=\"1\" class=\"dataframe\">\n  <thead>\n    <tr style=\"text-align: right;\">\n      <th></th>\n      <th>id</th>\n      <th>fecha_trxn</th>\n      <th>canal</th>\n      <th>disposit</th>\n      <th>cdgtrn</th>\n      <th>cdgrpta</th>\n      <th>vlrtran</th>\n      <th>sesion</th>\n      <th>f_analisis</th>\n      <th>var_rpta</th>\n      <th>segmento</th>\n      <th>grupo_descrp_trxn</th>\n      <th>descrip_trxn</th>\n      <th>clasif_trxn</th>\n      <th>descripcion_grupo</th>\n      <th>descrip_cod_rpta</th>\n      <th>clasif_cod_rpta</th>\n      <th>grupo_modifcado</th>\n      <th>culpa_banco</th>\n      <th>producto_asociado</th>\n    </tr>\n  </thead>\n  <tbody>\n    <tr>\n      <th>0</th>\n      <td>50578</td>\n      <td>2016-02-27 11:18:00.465900</td>\n      <td>CANAL_5</td>\n      <td>DISPOSIT_4</td>\n      <td>369</td>\n      <td>0</td>\n      <td>0.0</td>\n      <td>94</td>\n      <td>NaN</td>\n      <td>NaN</td>\n      <td>NaN</td>\n      <td>Logueo Para Transacciones</td>\n      <td>Logueo Para Transacciones</td>\n      <td>No Financiera</td>\n      <td>Autenticacion</td>\n      <td>Transaccion Exitosa</td>\n      <td>Exitosa</td>\n      <td>Autenticaciones</td>\n      <td>NaN</td>\n      <td>Sin producto</td>\n    </tr>\n    <tr>\n      <th>1</th>\n      <td>50578</td>\n      <td>2016-02-26 14:25:00.165800</td>\n      <td>CANAL_5</td>\n      <td>DISPOSIT_4</td>\n      <td>356</td>\n      <td>0</td>\n      <td>0.0</td>\n      <td>93</td>\n      <td>NaN</td>\n      <td>NaN</td>\n      <td>NaN</td>\n      <td>Consulta De Saldo Deposito</td>\n      <td>Consulta De Saldos Consolidados</td>\n      <td>No Financiera</td>\n      <td>Consultas / Movimientos / Extractos</td>\n      <td>Transaccion Exitosa</td>\n      <td>Exitosa</td>\n      <td>Consultas / Movimientos / Extractos</td>\n      <td>NaN</td>\n      <td>Tarjeta Debito</td>\n    </tr>\n    <tr>\n      <th>2</th>\n      <td>50578</td>\n      <td>2016-02-26 14:25:00.058900</td>\n      <td>CANAL_5</td>\n      <td>DISPOSIT_4</td>\n      <td>369</td>\n      <td>0</td>\n      <td>0.0</td>\n      <td>93</td>\n      <td>NaN</td>\n      <td>NaN</td>\n      <td>NaN</td>\n      <td>Logueo Para Transacciones</td>\n      <td>Logueo Para Transacciones</td>\n      <td>No Financiera</td>\n      <td>Autenticacion</td>\n      <td>Transaccion Exitosa</td>\n      <td>Exitosa</td>\n      <td>Autenticaciones</td>\n      <td>NaN</td>\n      <td>Sin producto</td>\n    </tr>\n    <tr>\n      <th>257626</th>\n      <td>50578</td>\n      <td>2016-02-29 14:51:00.510700</td>\n      <td>CANAL_5</td>\n      <td>DISPOSIT_4</td>\n      <td>356</td>\n      <td>0</td>\n      <td>0.0</td>\n      <td>95</td>\n      <td>NaN</td>\n      <td>NaN</td>\n      <td>NaN</td>\n      <td>Consulta De Saldo Deposito</td>\n      <td>Consulta De Saldos Consolidados</td>\n      <td>No Financiera</td>\n      <td>Consultas / Movimientos / Extractos</td>\n      <td>Transaccion Exitosa</td>\n      <td>Exitosa</td>\n      <td>Consultas / Movimientos / Extractos</td>\n      <td>NaN</td>\n      <td>Tarjeta Debito</td>\n    </tr>\n    <tr>\n      <th>257627</th>\n      <td>50578</td>\n      <td>2016-02-29 14:51:00.283600</td>\n      <td>CANAL_5</td>\n      <td>DISPOSIT_4</td>\n      <td>369</td>\n      <td>0</td>\n      <td>0.0</td>\n      <td>95</td>\n      <td>NaN</td>\n      <td>NaN</td>\n      <td>NaN</td>\n      <td>Logueo Para Transacciones</td>\n      <td>Logueo Para Transacciones</td>\n      <td>No Financiera</td>\n      <td>Autenticacion</td>\n      <td>Transaccion Exitosa</td>\n      <td>Exitosa</td>\n      <td>Autenticaciones</td>\n      <td>NaN</td>\n      <td>Sin producto</td>\n    </tr>\n    <tr>\n      <th>257628</th>\n      <td>50578</td>\n      <td>2016-02-27 11:19:00.491300</td>\n      <td>CANAL_5</td>\n      <td>DISPOSIT_4</td>\n      <td>356</td>\n      <td>0</td>\n      <td>0.0</td>\n      <td>94</td>\n      <td>NaN</td>\n      <td>NaN</td>\n      <td>NaN</td>\n      <td>Consulta De Saldo Deposito</td>\n      <td>Consulta De Saldos Consolidados</td>\n      <td>No Financiera</td>\n      <td>Consultas / Movimientos / Extractos</td>\n      <td>Transaccion Exitosa</td>\n      <td>Exitosa</td>\n      <td>Consultas / Movimientos / Extractos</td>\n      <td>NaN</td>\n      <td>Tarjeta Debito</td>\n    </tr>\n  </tbody>\n</table>\n</div>"
     },
     "metadata": {},
     "output_type": "execute_result",
     "execution_count": 3
    }
   ],
   "source": [
    "dtypes = {'id': 'category', 'canal': 'category', 'disposit': 'category', 'cdgtrn': 'category', 'cdgrpta': 'category',\n",
    "          'sesion': 'category', 'var_rpta': 'category', 'segmento': 'category','grupo_descrp_trxn': 'category',\n",
    "          'descrip_trxn': 'category', 'clasif_trxn': 'category','descripcion_grupo': 'category',\n",
    "          'descrip_cod_rpta': 'category','clasif_cod_rpta': 'category','grupo_modifcado': 'category',\n",
    "          'culpa_banco': 'category', 'producto_asociado': 'category'}\n",
    "\n",
    "train_trx = dd.read_csv('data/trxmaestrorta.csv', sep=';',\n",
    "                        parse_dates=['fecha_trxn'], dtype=dtypes)\n",
    "\n",
    "train_trx.head(3).append(train_trx.tail(3))"
   ],
   "metadata": {
    "collapsed": false,
    "pycharm": {
     "name": "#%%\n",
     "is_executing": false
    }
   }
  },
  {
   "cell_type": "code",
   "execution_count": 4,
   "outputs": [
    {
     "data": {
      "text/plain": "id                         category\nfecha_trxn           datetime64[ns]\ncanal                      category\ndisposit                   category\ncdgtrn                     category\ncdgrpta                    category\nvlrtran                     float64\nsesion                     category\nf_analisis                  float64\nvar_rpta                   category\nsegmento                   category\ngrupo_descrp_trxn          category\ndescrip_trxn               category\nclasif_trxn                category\ndescripcion_grupo          category\ndescrip_cod_rpta           category\nclasif_cod_rpta            category\ngrupo_modifcado            category\nculpa_banco                category\nproducto_asociado          category\ndtype: object"
     },
     "metadata": {},
     "output_type": "execute_result",
     "execution_count": 4
    }
   ],
   "source": [
    "train_trx.dtypes"
   ],
   "metadata": {
    "collapsed": false,
    "pycharm": {
     "name": "#%%\n",
     "is_executing": false
    }
   }
  },
  {
   "cell_type": "code",
   "execution_count": 5,
   "outputs": [
    {
     "data": {
      "text/plain": "           id                 fecha_trxn    canal    disposit cdgtrn cdgrpta  \\\n0       50578 2016-02-27 11:18:00.465900  CANAL_5  DISPOSIT_4    369       0   \n1       50578 2016-02-26 14:25:00.165800  CANAL_5  DISPOSIT_4    356       0   \n2       50578 2016-02-26 14:25:00.058900  CANAL_5  DISPOSIT_4    369       0   \n257626  50578 2016-02-29 14:51:00.510700  CANAL_5  DISPOSIT_4    356       0   \n257627  50578 2016-02-29 14:51:00.283600  CANAL_5  DISPOSIT_4    369       0   \n257628  50578 2016-02-27 11:19:00.491300  CANAL_5  DISPOSIT_4    356       0   \n\n        vlrtran sesion  f_analisis var_rpta segmento  \\\n0           0.0     94         NaN      NaN      NaN   \n1           0.0     93         NaN      NaN      NaN   \n2           0.0     93         NaN      NaN      NaN   \n257626      0.0     95         NaN      NaN      NaN   \n257627      0.0     95         NaN      NaN      NaN   \n257628      0.0     94         NaN      NaN      NaN   \n\n                 grupo_descrp_trxn                     descrip_trxn  \\\n0        Logueo Para Transacciones        Logueo Para Transacciones   \n1       Consulta De Saldo Deposito  Consulta De Saldos Consolidados   \n2        Logueo Para Transacciones        Logueo Para Transacciones   \n257626  Consulta De Saldo Deposito  Consulta De Saldos Consolidados   \n257627   Logueo Para Transacciones        Logueo Para Transacciones   \n257628  Consulta De Saldo Deposito  Consulta De Saldos Consolidados   \n\n          clasif_trxn                    descripcion_grupo  \\\n0       No Financiera                        Autenticacion   \n1       No Financiera  Consultas / Movimientos / Extractos   \n2       No Financiera                        Autenticacion   \n257626  No Financiera  Consultas / Movimientos / Extractos   \n257627  No Financiera                        Autenticacion   \n257628  No Financiera  Consultas / Movimientos / Extractos   \n\n           descrip_cod_rpta clasif_cod_rpta  \\\n0       Transaccion Exitosa         Exitosa   \n1       Transaccion Exitosa         Exitosa   \n2       Transaccion Exitosa         Exitosa   \n257626  Transaccion Exitosa         Exitosa   \n257627  Transaccion Exitosa         Exitosa   \n257628  Transaccion Exitosa         Exitosa   \n\n                            grupo_modifcado culpa_banco producto_asociado  \\\n0                           Autenticaciones         NaN      Sin producto   \n1       Consultas / Movimientos / Extractos         NaN    Tarjeta Debito   \n2                           Autenticaciones         NaN      Sin producto   \n257626  Consultas / Movimientos / Extractos         NaN    Tarjeta Debito   \n257627                      Autenticaciones         NaN      Sin producto   \n257628  Consultas / Movimientos / Extractos         NaN    Tarjeta Debito   \n\n        year  month  day  week_day  hour  minute         semester dia_semana  \n0       2016      2   27         5    11      18  primer semestre     semana  \n1       2016      2   26         4    14      25  primer semestre     semana  \n2       2016      2   26         4    14      25  primer semestre     semana  \n257626  2016      2   29         0    14      51  primer semestre     semana  \n257627  2016      2   29         0    14      51  primer semestre     semana  \n257628  2016      2   27         5    11      19  primer semestre     semana  ",
      "text/html": "<div>\n<style scoped>\n    .dataframe tbody tr th:only-of-type {\n        vertical-align: middle;\n    }\n\n    .dataframe tbody tr th {\n        vertical-align: top;\n    }\n\n    .dataframe thead th {\n        text-align: right;\n    }\n</style>\n<table border=\"1\" class=\"dataframe\">\n  <thead>\n    <tr style=\"text-align: right;\">\n      <th></th>\n      <th>id</th>\n      <th>fecha_trxn</th>\n      <th>canal</th>\n      <th>disposit</th>\n      <th>cdgtrn</th>\n      <th>cdgrpta</th>\n      <th>vlrtran</th>\n      <th>sesion</th>\n      <th>f_analisis</th>\n      <th>var_rpta</th>\n      <th>segmento</th>\n      <th>grupo_descrp_trxn</th>\n      <th>descrip_trxn</th>\n      <th>clasif_trxn</th>\n      <th>descripcion_grupo</th>\n      <th>descrip_cod_rpta</th>\n      <th>clasif_cod_rpta</th>\n      <th>grupo_modifcado</th>\n      <th>culpa_banco</th>\n      <th>producto_asociado</th>\n      <th>year</th>\n      <th>month</th>\n      <th>day</th>\n      <th>week_day</th>\n      <th>hour</th>\n      <th>minute</th>\n      <th>semester</th>\n      <th>dia_semana</th>\n    </tr>\n  </thead>\n  <tbody>\n    <tr>\n      <th>0</th>\n      <td>50578</td>\n      <td>2016-02-27 11:18:00.465900</td>\n      <td>CANAL_5</td>\n      <td>DISPOSIT_4</td>\n      <td>369</td>\n      <td>0</td>\n      <td>0.0</td>\n      <td>94</td>\n      <td>NaN</td>\n      <td>NaN</td>\n      <td>NaN</td>\n      <td>Logueo Para Transacciones</td>\n      <td>Logueo Para Transacciones</td>\n      <td>No Financiera</td>\n      <td>Autenticacion</td>\n      <td>Transaccion Exitosa</td>\n      <td>Exitosa</td>\n      <td>Autenticaciones</td>\n      <td>NaN</td>\n      <td>Sin producto</td>\n      <td>2016</td>\n      <td>2</td>\n      <td>27</td>\n      <td>5</td>\n      <td>11</td>\n      <td>18</td>\n      <td>primer semestre</td>\n      <td>semana</td>\n    </tr>\n    <tr>\n      <th>1</th>\n      <td>50578</td>\n      <td>2016-02-26 14:25:00.165800</td>\n      <td>CANAL_5</td>\n      <td>DISPOSIT_4</td>\n      <td>356</td>\n      <td>0</td>\n      <td>0.0</td>\n      <td>93</td>\n      <td>NaN</td>\n      <td>NaN</td>\n      <td>NaN</td>\n      <td>Consulta De Saldo Deposito</td>\n      <td>Consulta De Saldos Consolidados</td>\n      <td>No Financiera</td>\n      <td>Consultas / Movimientos / Extractos</td>\n      <td>Transaccion Exitosa</td>\n      <td>Exitosa</td>\n      <td>Consultas / Movimientos / Extractos</td>\n      <td>NaN</td>\n      <td>Tarjeta Debito</td>\n      <td>2016</td>\n      <td>2</td>\n      <td>26</td>\n      <td>4</td>\n      <td>14</td>\n      <td>25</td>\n      <td>primer semestre</td>\n      <td>semana</td>\n    </tr>\n    <tr>\n      <th>2</th>\n      <td>50578</td>\n      <td>2016-02-26 14:25:00.058900</td>\n      <td>CANAL_5</td>\n      <td>DISPOSIT_4</td>\n      <td>369</td>\n      <td>0</td>\n      <td>0.0</td>\n      <td>93</td>\n      <td>NaN</td>\n      <td>NaN</td>\n      <td>NaN</td>\n      <td>Logueo Para Transacciones</td>\n      <td>Logueo Para Transacciones</td>\n      <td>No Financiera</td>\n      <td>Autenticacion</td>\n      <td>Transaccion Exitosa</td>\n      <td>Exitosa</td>\n      <td>Autenticaciones</td>\n      <td>NaN</td>\n      <td>Sin producto</td>\n      <td>2016</td>\n      <td>2</td>\n      <td>26</td>\n      <td>4</td>\n      <td>14</td>\n      <td>25</td>\n      <td>primer semestre</td>\n      <td>semana</td>\n    </tr>\n    <tr>\n      <th>257626</th>\n      <td>50578</td>\n      <td>2016-02-29 14:51:00.510700</td>\n      <td>CANAL_5</td>\n      <td>DISPOSIT_4</td>\n      <td>356</td>\n      <td>0</td>\n      <td>0.0</td>\n      <td>95</td>\n      <td>NaN</td>\n      <td>NaN</td>\n      <td>NaN</td>\n      <td>Consulta De Saldo Deposito</td>\n      <td>Consulta De Saldos Consolidados</td>\n      <td>No Financiera</td>\n      <td>Consultas / Movimientos / Extractos</td>\n      <td>Transaccion Exitosa</td>\n      <td>Exitosa</td>\n      <td>Consultas / Movimientos / Extractos</td>\n      <td>NaN</td>\n      <td>Tarjeta Debito</td>\n      <td>2016</td>\n      <td>2</td>\n      <td>29</td>\n      <td>0</td>\n      <td>14</td>\n      <td>51</td>\n      <td>primer semestre</td>\n      <td>semana</td>\n    </tr>\n    <tr>\n      <th>257627</th>\n      <td>50578</td>\n      <td>2016-02-29 14:51:00.283600</td>\n      <td>CANAL_5</td>\n      <td>DISPOSIT_4</td>\n      <td>369</td>\n      <td>0</td>\n      <td>0.0</td>\n      <td>95</td>\n      <td>NaN</td>\n      <td>NaN</td>\n      <td>NaN</td>\n      <td>Logueo Para Transacciones</td>\n      <td>Logueo Para Transacciones</td>\n      <td>No Financiera</td>\n      <td>Autenticacion</td>\n      <td>Transaccion Exitosa</td>\n      <td>Exitosa</td>\n      <td>Autenticaciones</td>\n      <td>NaN</td>\n      <td>Sin producto</td>\n      <td>2016</td>\n      <td>2</td>\n      <td>29</td>\n      <td>0</td>\n      <td>14</td>\n      <td>51</td>\n      <td>primer semestre</td>\n      <td>semana</td>\n    </tr>\n    <tr>\n      <th>257628</th>\n      <td>50578</td>\n      <td>2016-02-27 11:19:00.491300</td>\n      <td>CANAL_5</td>\n      <td>DISPOSIT_4</td>\n      <td>356</td>\n      <td>0</td>\n      <td>0.0</td>\n      <td>94</td>\n      <td>NaN</td>\n      <td>NaN</td>\n      <td>NaN</td>\n      <td>Consulta De Saldo Deposito</td>\n      <td>Consulta De Saldos Consolidados</td>\n      <td>No Financiera</td>\n      <td>Consultas / Movimientos / Extractos</td>\n      <td>Transaccion Exitosa</td>\n      <td>Exitosa</td>\n      <td>Consultas / Movimientos / Extractos</td>\n      <td>NaN</td>\n      <td>Tarjeta Debito</td>\n      <td>2016</td>\n      <td>2</td>\n      <td>27</td>\n      <td>5</td>\n      <td>11</td>\n      <td>19</td>\n      <td>primer semestre</td>\n      <td>semana</td>\n    </tr>\n  </tbody>\n</table>\n</div>"
     },
     "metadata": {},
     "output_type": "execute_result",
     "execution_count": 5
    }
   ],
   "source": [
    "train_trx['clasif_cod_rpta'] = train_trx['clasif_cod_rpta'].replace('No Considerar', 'No considerar')\n",
    "train_trx['year'] = train_trx['fecha_trxn'].dt.year\n",
    "train_trx['month'] = train_trx['fecha_trxn'].dt.month\n",
    "train_trx['day'] = train_trx['fecha_trxn'].dt.day\n",
    "train_trx['week_day'] = train_trx['fecha_trxn'].dt.weekday\n",
    "train_trx['hour'] = train_trx['fecha_trxn'].dt.hour\n",
    "train_trx['minute'] = train_trx['fecha_trxn'].dt.minute\n",
    "train_trx['semester'] = train_trx['month'].apply(month_mapper, meta=('month', 'object'))\n",
    "train_trx['dia_semana'] = train_trx['week_day'].apply(day_mapper, meta=('week_day', 'object'))\n",
    "\n",
    "train_trx.head(3).append(train_trx.tail(3))\n"
   ],
   "metadata": {
    "collapsed": false,
    "pycharm": {
     "name": "#%%\n",
     "is_executing": false
    }
   }
  },
  {
   "cell_type": "code",
   "execution_count": 6,
   "outputs": [],
   "source": [
    "# len(train_trx)"
   ],
   "metadata": {
    "collapsed": false,
    "pycharm": {
     "name": "#%%\n",
     "is_executing": false
    }
   }
  },
  {
   "cell_type": "code",
   "execution_count": 7,
   "outputs": [],
   "source": [
    "# to_categorical = ['year', 'month', 'week_day', 'clasif_cod_rpta', 'semester', 'dia_semana']\n",
    "# train_trx = train_trx.categorize(columns=to_categorical)"
   ],
   "metadata": {
    "collapsed": false,
    "pycharm": {
     "name": "#%%\n",
     "is_executing": false
    }
   }
  },
  {
   "cell_type": "code",
   "execution_count": 8,
   "outputs": [],
   "source": [
    "# year = train_trx.pivot_table(index='id', columns='year', values='canal' , aggfunc='count').compute()\n",
    "# \n",
    "# month = train_trx.pivot_table(index='id', columns='month', values='canal', aggfunc='count').compute()\n",
    "# \n",
    "# week_day = train_trx.pivot_table(index='id', columns='week_day', values='canal', aggfunc='count').compute()\n",
    "# \n",
    "# trx_exitosa = train_trx.pivot_table(index='id', columns='clasif_cod_rpta',\n",
    "#                                     values='canal', aggfunc='count').compute()\n",
    "# \n",
    "# canales = train_trx.pivot_table(index='id', columns='canal', values='canal', aggfunc='count').compute()\n",
    "# \n",
    "# dispositivo = train_trx.pivot_table(index='id', columns='disposit', values='canal', aggfunc='count').compute()\n",
    "# \n",
    "# trx_financiera = train_trx.pivot_table(index='id', columns='clasif_trxn', values='canal', aggfunc='count').compute()"
   ],
   "metadata": {
    "collapsed": false,
    "pycharm": {
     "name": "#%%\n",
     "is_executing": false
    }
   }
  },
  {
   "cell_type": "code",
   "execution_count": 9,
   "outputs": [],
   "source": [
    "# canal = train_trx.groupby('id').canal.count().compute()\n",
    "# \n",
    "# sesion = train_trx.groupby('id').sesion.count().compute()"
   ],
   "metadata": {
    "collapsed": false,
    "pycharm": {
     "name": "#%%\n",
     "is_executing": false
    }
   }
  },
  {
   "cell_type": "code",
   "execution_count": 10,
   "outputs": [],
   "source": [
    "# print(f'El tipo de dato de year es: {type(year)}')\n",
    "# print(f'El tipo de dato de month es: {type(month)}')\n",
    "# print(f'El tipo de dato de week_day es: {type(week_day)}')\n",
    "# \n",
    "# \n",
    "# month = pd.DataFrame(month.to_records())\n",
    "# month.columns = ['id', 'm2', 'm1', 'm12','m11', 'm10', 'm9', 'm3','m4', 'm7', 'm8', 'm6', 'm5']\n",
    "# week_day = pd.DataFrame(week_day.to_records())\n",
    "# week_day.columns=['id','wd5','wd4','wd3','wd2','wd0','wd1','wd6']"
   ],
   "metadata": {
    "collapsed": false,
    "pycharm": {
     "name": "#%%\n",
     "is_executing": false
    }
   }
  },
  {
   "cell_type": "code",
   "execution_count": 11,
   "outputs": [],
   "source": [
    "# data = pd.concat([year, month, week_day], axis=1)\n",
    "# print(f'El conjunto de datos tiene {data.shape[0]} observaciones, y {data.shape[1]} columnas. \\n')\n",
    "# data.head(3).append(data.tail(3))"
   ],
   "metadata": {
    "collapsed": false,
    "pycharm": {
     "name": "#%%\n",
     "is_executing": false
    }
   }
  },
  {
   "cell_type": "code",
   "execution_count": 11,
   "outputs": [],
   "source": [
    "\n",
    "\n"
   ],
   "metadata": {
    "collapsed": false,
    "pycharm": {
     "name": "#%%\n",
     "is_executing": false
    }
   }
  }
 ],
 "metadata": {
  "kernelspec": {
   "display_name": "Python 3",
   "language": "python",
   "name": "python3"
  },
  "language_info": {
   "codemirror_mode": {
    "name": "ipython",
    "version": 2
   },
   "file_extension": ".py",
   "mimetype": "text/x-python",
   "name": "python",
   "nbconvert_exporter": "python",
   "pygments_lexer": "ipython2",
   "version": "2.7.6"
  },
  "pycharm": {
   "stem_cell": {
    "cell_type": "raw",
    "source": [],
    "metadata": {
     "collapsed": false
    }
   }
  }
 },
 "nbformat": 4,
 "nbformat_minor": 0
}